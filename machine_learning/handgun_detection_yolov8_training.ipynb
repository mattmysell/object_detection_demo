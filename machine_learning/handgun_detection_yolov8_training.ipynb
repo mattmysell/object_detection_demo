{
  "cells": [
    {
      "cell_type": "markdown",
      "metadata": {
        "id": "sA11s6_XR9xh"
      },
      "source": [
        "## 1. Mount your Google Drive and Install Required Libraries\n",
        "\n",
        "Mounting your google drive to google colab is helpful to avoid loosing data if a process in google colab crashes, when the process completes it saves the output and you can check on it whenever.\n",
        "\n",
        "Install Roboflow and Ultralytics (YoloV8), at the time of writing this file roboflow 1.1.9 is the latest version which requires ultralytics 8.0.196."
      ]
    },
    {
      "cell_type": "code",
      "execution_count": null,
      "metadata": {
        "colab": {
          "base_uri": "https://localhost:8080/",
          "height": 1000
        },
        "id": "tZe1mEcOR9xk",
        "outputId": "58d26b3c-c568-412e-f660-177016001cd2"
      },
      "outputs": [],
      "source": [
        "from google.colab import drive\n",
        "from os import makedirs\n",
        "\n",
        "drive.mount(\"/content/drive\")\n",
        "makedirs(\"/content/drive/MyDrive/Colab/object_detection/yolov8\", exist_ok=True)\n",
        "%cd \"/content/drive/MyDrive/Colab/object_detection/yolov8\"\n",
        "%pip install roboflow==1.1.9\n",
        "%pip install ultralytics==8.0.196 # Roboflow is dependant on version 8.0.196\n",
        "%pip install openvino==2023.1.0 openvino-dev==2023.1.0 onnx==1.15.0"
      ]
    },
    {
      "cell_type": "markdown",
      "metadata": {
        "id": "HQENiADmR9xm"
      },
      "source": [
        "## 2. Load your Dataset\n",
        "After following the steps in Preparing the Dataset, copy the Jupyter code snippet from the export function excluding the pip install part, overwritting the example below then run it."
      ]
    },
    {
      "cell_type": "code",
      "execution_count": null,
      "metadata": {
        "colab": {
          "base_uri": "https://localhost:8080/"
        },
        "id": "DE_g9xDSR9xm",
        "outputId": "30232f74-27c5-4613-8bbf-fb93e0db5cd2"
      },
      "outputs": [],
      "source": [
        "from roboflow import Roboflow\n",
        "%cd \"/content/drive/MyDrive/Colab/object_detection/yolov8\"\n",
        "rf = Roboflow(api_key=\"<key>\")\n",
        "project = rf.workspace(\"<workspace>\").project(\"<project>\")\n",
        "dataset = project.version(1).download(\"yolov8\")"
      ]
    },
    {
      "cell_type": "markdown",
      "metadata": {
        "id": "Z-YQW089R9xn"
      },
      "source": [
        "## 3. Train the Model\n",
        "Using the roboflow dataset train the model."
      ]
    },
    {
      "cell_type": "code",
      "execution_count": null,
      "metadata": {
        "colab": {
          "base_uri": "https://localhost:8080/"
        },
        "id": "Vua0EoOHZTd0",
        "outputId": "a9c5c791-51f4-449b-929b-ff7556cb888c"
      },
      "outputs": [],
      "source": [
        "from datetime import datetime\n",
        "from ultralytics import YOLO\n",
        "\n",
        "%cd \"/content/drive/MyDrive/Colab/object_detection/yolov8\"\n",
        "project = \"handgun_detection\"\n",
        "name = f\"run_{datetime.now().strftime('%Y-%m-%d_%H-%M')}\"\n",
        "model = YOLO(\"yolov8n.pt\") # Using the smallest pretrained dataset to avoid overfitting of a small dataset.\n",
        "results = model.train(data=f\"{dataset.location}/data.yaml\", epochs=200, imgsz=480, project=project, name=name)"
      ]
    },
    {
      "cell_type": "markdown",
      "metadata": {
        "id": "jNPvzMYlR9xo"
      },
      "source": [
        "## 4. View Training Summary"
      ]
    },
    {
      "cell_type": "code",
      "execution_count": null,
      "metadata": {
        "colab": {
          "base_uri": "https://localhost:8080/",
          "height": 771
        },
        "id": "PPj_iz78R9xo",
        "outputId": "9d4c0a1d-4bb4-43ac-9d4f-a01f62b0d126"
      },
      "outputs": [],
      "source": [
        "from IPython import display\n",
        "display.Image(f\"{project}/{name}/results.png\")"
      ]
    },
    {
      "cell_type": "markdown",
      "metadata": {
        "id": "aWorDMilR9xp"
      },
      "source": [
        "## 5. Apply Model to the Test Dataset\n",
        "After running the below cell you should find the result images on your drive at \"Colab/object_detection/yolov8/runs/detect/{name of this run}\""
      ]
    },
    {
      "cell_type": "code",
      "execution_count": null,
      "metadata": {
        "id": "NOBJwNgdR9xs"
      },
      "outputs": [],
      "source": [
        "%cd \"/content/drive/MyDrive/Colab/object_detection/yolov8\"\n",
        "model = f\"{project}/{name}/weights/best.pt\"\n",
        "!yolo task=detect mode=predict model= $model source= {dataset.location}/test/images imgsz= 480 name= $name"
      ]
    },
    {
      "cell_type": "markdown",
      "metadata": {
        "id": "C8DdHYViR9xs"
      },
      "source": [
        "## 6. Export the Model\n",
        "After running the below cell you can download the models from \"Colab/object_detection/yolov8/handgun_detection/{name of this run}/weights/best_openvino_model\""
      ]
    },
    {
      "cell_type": "code",
      "execution_count": null,
      "metadata": {
        "colab": {
          "base_uri": "https://localhost:8080/",
          "height": 469
        },
        "id": "xkPXHBEZYAUl",
        "outputId": "107dfb05-6550-4733-cae3-a6f31b0f5e3e"
      },
      "outputs": [],
      "source": [
        "from ultralytics import YOLO\n",
        "\n",
        "model = f\"{project}/{name}/weights/best.pt\"\n",
        "model_path = f\"{project}/{name}/weights/best.pt\"\n",
        "model = YOLO(model_path)\n",
        "model.export(format=\"openvino\", dynamic=True)"
      ]
    }
  ],
  "metadata": {
    "accelerator": "GPU",
    "colab": {
      "gpuType": "T4",
      "machine_shape": "hm",
      "provenance": []
    },
    "kernelspec": {
      "display_name": "Python 3",
      "name": "python3"
    },
    "language_info": {
      "name": "python"
    }
  },
  "nbformat": 4,
  "nbformat_minor": 0
}
